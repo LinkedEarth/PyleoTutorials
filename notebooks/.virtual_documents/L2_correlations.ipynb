





%load_ext watermark

import pyleoclim as pyleo
pyleo.set_style('web')
import cartopy.crs as ccrs
import matplotlib.pyplot as plt
import xarray as xr
import numpy as np
from pylipd.lipd import LiPD





D = LiPD()

D.load('../data/Ocn-Palmyra.Nurhati.2011.lpd')

timeseries,df = D.get_timeseries(D.get_all_dataset_names(),to_dataframe=True)

df


row = df[df['paleoData_variableName']=='Sr_Ca']

srca = pyleo.Series(
    time=row['year'].values[0],
    value=row['paleoData_values'].values[0],
    time_name = 'Years',
    time_unit = row['yearUnits'],
    value_name = 'Sr_Ca',
    value_unit = row['paleoData_units'],
    label='Ocn-Palmyra.Nurhati.2011'
) # load only the Sr/Ca observations
srca.plot()





filepath = 'https://psl.noaa.gov/thredds/dodsC/Datasets/noaa.ersst.v5/sst.mnmean.nc'
ersstv5 = xr.open_dataset(filepath)
ersstv5





ersstv5_tp = ersstv5.sel(lat=slice(40, -10), lon=slice(120, 280))
ersstv5_tp





fig = plt.figure(figsize=(12, 6))
ax = plt.axes(projection=ccrs.Robinson(central_longitude=180))
ax.coastlines()
ax.gridlines()
ersstv5_tp.sst.isel(time=-1).plot(
    ax=ax, transform=ccrs.PlateCarree(), vmin=16, vmax=30, cmap='coolwarm'
)





nino34_box = ersstv5_tp.sel(lat=slice(5, -5), lon=slice(190, 240))
gb = nino34_box.sst.groupby('time.month')
nino34_anom = gb - gb.mean(dim='time')
weights = np.cos(np.deg2rad(nino34_box.lat))
nino34 = nino34_anom.weighted(weights).mean(dim=['lat', 'lon'])
nino34.plot()





dates = nino34['time'].values
years = dates.astype('datetime64[Y]').astype(int) + 1970
months = dates.astype('datetime64[M]').astype(int) % 12 + 1
decimal_year = years + months/12.0


nino34ts = pyleo.Series(time = decimal_year, value = nino34.values, value_name='NINO3.4',
                        value_unit= '$^\circ$C', label='Niño3.4 SST')
nino34ts.plot()





corr1a = srca.correlation(nino34ts)
print(corr1a)





corr1b = nino34ts.correlation(srca)
print(corr1b)





corr1t = srca.correlation(nino34ts, settings={'method':'ttest'})
print(corr1t)


corr1_isopersist = srca.correlation(nino34ts, settings={'method':'isopersistent'}, seed = 2333)
print(corr1_isopersist)





corr1_isopersist = srca.correlation(nino34ts, settings={'method':'isopersistent','nsim': 5000}, seed = 2333)
print(corr1_isopersist)





corr1_isospec = srca.correlation(nino34ts, settings={'method':'isospectral','nsim': 5000}, seed = 4343)
print(corr1_isospec)








ersstv5_tp





%%time

nlon = len(ersstv5_tp['lon'])
nlat = len(ersstv5_tp['lat']) 
pval = np.empty((nlon,nlat)) # declare array to store pvalues
corr = np.empty_like(pval) # declare empty array of identical shape
slon, slat = [], [];
sst_list = [] # initialize empty list 
alpha = 0.05

for ji in range(nlon):
    print("Computing correlations at " + str(ersstv5_tp.lon[ji].values) + 'E')
    for jj in range(nlat):  
        st = ersstv5_tp['sst'][:,jj,ji]
        #  locate valid ocean points
        noNaNs = len(np.where(np.isnan(st) == False)[0]) # number of valid years
        sstvar = st.var()  # variance
        if noNaNs >= 100 and sstvar >= 0.01:
            sttb = pyleo.Series(time=decimal_year,
                        time_unit = 'year CE', 
                        value = st.values, #st_annual.values,
                        value_unit = 'C',clean_ts=False)
            sst_list.append(sttb) 
            corr_res = sttb.correlation(srca, settings={'method':'isospectral','nsim':200},seed=333)
            pval[ji,jj] = corr_res.p
            corr[ji,jj] = corr_res.r
            if pval[ji,jj] < alpha:
                slon.append(ersstv5_tp.lon[ji])
                slat.append(ersstv5_tp.lat[jj])
        else:  
            pval[ji,jj] = np.nan; corr[ji,jj] = np.nan


pvals = pval.flatten() # make the p-value array a 1D one
nt = len(pvals)
print(str(nt)) # check on the final number
len(slon)


import cartopy.crs as ccrs
import cartopy.feature as cfeature
from cartopy.mpl.ticker import LongitudeFormatter, LatitudeFormatter
import seaborn as sns

land_color=sns.xkcd_rgb['light grey']
latlon_range =  (110, 290, -10, 40)
lon_min, lon_max, lat_min, lat_max = latlon_range
lon_ticks = np.arange(120, 330, 30)
lat_ticks = np.arange(-10, 50, 10)

# map
fig = plt.figure(figsize=[12, 8])
ax = plt.subplot(projection=ccrs.PlateCarree(central_longitude=180))
ax.add_feature(cfeature.LAND, facecolor=land_color, edgecolor=land_color)
ax.coastlines()
transform = ccrs.PlateCarree()

ax.set_extent(latlon_range, crs=transform)
lon_formatter = LongitudeFormatter(zero_direction_label=False)
lat_formatter = LatitudeFormatter()
ax.xaxis.set_major_formatter(lon_formatter)
ax.yaxis.set_major_formatter(lat_formatter)
mask_lon = (lon_ticks >= lon_min) & (lon_ticks <= lon_max)
mask_lat = (lat_ticks >= lat_min) & (lat_ticks <= lat_max)
ax.set_xticks(lon_ticks[mask_lon], crs=transform)
ax.set_yticks(lat_ticks[mask_lat], crs=transform)

# contour
clevs = np.linspace(-0.9, 0.9, 19)
im = ax.contourf(ersstv5_tp.lon, ersstv5_tp.lat, corr.T, clevs, transform=transform, cmap='RdBu_r', extend='both')

# significant points
plt.scatter(x=slon, y=slat, color="purple", s=3, alpha=0.3, transform=transform) 
plt.title(srca.label +' Sr/Ca correlation to ERSSTv5')
# colorbar
#plt.rcParams['axes.grid'] = False  # necessary in MPL 3.5.x https://github.com/matplotlib/matplotlib/issues/21723
cbar = fig.colorbar(im, ax=ax, pad=0.05, aspect=20, orientation = 'horizontal', fraction=0.15, shrink=0.5)
cbar.set_label(r'$R$', labelpad=-1)





fdr_res = pyleo.utils.correlation.fdr(pvals)
len(fdr_res)





sstMS = pyleo.MultipleSeries(sst_list)
corrMS = sstMS.correlation(srca,settings={'method':'isospectral','nsim':1000},seed=333)   


type(corrMS)





fig, ax = corrMS.plot()
corrMS.signif_fdr.count(True)





print(corrMS)





sstMS.correlation(settings={'method': 'isospectral', 'nsim': 200}).plot()





n_ens = 100  # ensemble size
ts_list = []
for i in range(n_ens):
    _, noise = pyleo.utils.gen_ts(t=srca.time, model= 'colored_noise') 
    z, _, _ = pyleo.utils.standardize(noise)
    new_ts = pyleo.Series(time=srca.time, value=srca.value+z/10)
    ts_list.append(new_ts)
    
srcaEns = pyleo.EnsembleSeries(ts_list) # create ensemble series object





fig, ax = srcaEns.plot_envelope()
srca.plot(color='k',ax=ax, zorder=100, lgd_kwargs={'bbox_to_anchor': (1, 1)}) # plot the original series on top


corrEns = srcaEns.correlation(srca)
corrEns.plot(title='Correlation Ensemble')








n_ens = 50
ts_list = []
for i in range(n_ens):
    _, noise = pyleo.utils.gen_ts(t=nino34ts.time, model= 'colored_noise') 
    z, _, _ = pyleo.utils.standardize(noise)
    new_ts = pyleo.Series(time=nino34ts.time, value=nino34ts.value+z/10)
    ts_list.append(new_ts)
    
nino34Ens = pyleo.EnsembleSeries(ts_list) # create ensemble series object


corrEns2 = srcaEns.correlation(nino34Ens)
corrEns2.plot(title='Correlation: NINO3.4 vs Palmyra Sr/Ca Ensembles')








from pyleoclim.utils.correlation import fdr
?fdr





np.random.seed(2333)
pval_list = np.random.random(10)/10
print('p-value list:\n', pval_list)

fdr_res = fdr(pval_list, method='original')
print(fdr_res)





np.random.seed(2333)
pval_list = np.random.random(10)/15
print('p-value list:\n', pval_list, '\n')

fdr_res = fdr(pval_list, method='original')
print(fdr_res, '\n')

print('Index\tp-value')
for idx in fdr_res:
    print(f'{idx}\t{pval_list[idx]}')











%watermark -n -u -v -iv -w



