


%load_ext watermark

import ast

import pyleoclim as pyleo
import numpy as np
import pandas as pd

from pylipd.lipd import LiPD





def mapDataToEnsemble(chronValues, paleoValues, chronDepth, paleoDepth,
                             value_name = None,value_unit = None,time_name = None,time_unit = None, ensembleMode='chron'):
    """ Map the depth for the ensemble age values to the paleo values

    Parameters
    ----------

    chronValues : array
        A vector or matrix of containing chron data values. 
        If a matrix, realizations should be stored in columns.
        Must have same number of rows/elements as chronDepth.
        
    paleoValues : array
        A vector or matrix containing the paleo data values. 
        If a matrix, realizations should be stored in columns.
        Must have same number of rows/elements as paleoDepth.
        
    chronDepth : 1D array
        A vector of depth. The vector should have the same
        length as the number of rows in the chronValues
        
    paleoDepth : 1D array
        A vector corresponding to the depth at which there
        are paleodata information
        
    value_name : str
        Paleo data value name
    
    value_unit : str
        Paleo data value unit
    
    time_name : str
        Time name
    
    time_unit : str
        Time unit

    ensembleMode : str; {'chron','paleo'}
        Whether the ensemble is stored in the chronValues or paleoValues. 
        Default is 'chron'.

    Returns
    -------

    ensemble : pyleoclim.EnsembleSeries
        A matrix of age ensemble on the PaleoData scale

    """

    #Make sure that numpy arrays were given and try to coerce them into vectors if possible
        
    chronDepth=np.squeeze(np.array(chronDepth))
    paleoDepth = np.squeeze(np.array(paleoDepth))

    #Check that arrays are vectors for np.interp
    if chronDepth.ndim > 1:
        raise ValueError('chronDepth has more than one dimension, please pass it as a 1D array')
    if paleoDepth.ndim > 1:
        raise ValueError('paleoDepth has more than one dimension, please pass it as a 1D array')

    if ensembleMode == 'chron':
        paleoValues = np.squeeze(np.array(paleoValues))
        if paleoValues.ndim > 1:
            raise ValueError('paleoValues has more than one dimension and `ensembleMode` is set to "chron"')
        #Interpolate
        ensembleValuesToPaleo = np.zeros((len(paleoDepth),np.shape(chronValues)[1])) #placeholder
        for i in np.arange(0,np.shape(chronValues)[1]):
            ensembleValuesToPaleo[:,i]=np.interp(paleoDepth,chronDepth,chronValues[:,i])

        if len(chronDepth)!=np.shape(chronValues)[0]:
            raise ValueError("Ensemble depth and age need to have the same length")
            
        if len(paleoValues) != len(paleoDepth):
            raise ValueError("Paleo depth and age need to have the same length")
        
        series_list = []
        
        for s in ensembleValuesToPaleo.T:
            series_tmp = pyleo.Series(time=s, value=paleoValues,
                        verbose=False,
                        clean_ts=False,
                        value_name=value_name,
                        value_unit=value_unit,
                        time_name=time_name,
                        time_unit=time_unit)
            series_list.append(series_tmp)

    elif ensembleMode == 'paleo':
        chronValues = np.squeeze(np.array(chronValues))
        if chronValues.ndim > 1:
            raise ValueError('chronValues has more than one dimension and `ensembleMode` is set to "paleo"')
        #Interpolate
        ensembleValuesToPaleo = np.zeros((len(chronDepth),np.shape(paleoValues)[1])) #placeholder
        for i in np.arange(0,np.shape(paleoValues)[1]):
            ensembleValuesToPaleo[:,i]=np.interp(chronDepth,paleoDepth,paleoValues[:,i])

        if len(paleoDepth)!=np.shape(paleoValues)[0]:
            raise ValueError("Ensemble depth and age need to have the same length")
            
        if len(chronValues) != len(chronDepth):
            raise ValueError("Paleo depth and age need to have the same length")
        
        series_list = []
        
        for s in ensembleValuesToPaleo.T:
            series_tmp = pyleo.Series(time=chronValues, value=s,
                        verbose=False,
                        clean_ts=False,
                        value_name=value_name,
                        value_unit=value_unit,
                        time_name=time_name,
                        time_unit=time_unit)
            series_list.append(series_tmp)

    else:
        raise ValueError('ensembleMode not recognized, please pass "chron" or "paleo"')
    
    ensemble = pyleo.EnsembleSeries(series_list=series_list)

    return ensemble











#Create a path to the data
filename = '../data/Crystal.McCabe-Glynn.2013.lpd'

#Initialize the lipd object
D = LiPD()

#Load the data
D.load(filename)





#Pull the ensemble tables into a dataframe
ensemble_df = D.get_ensemble_tables()
ensemble_df





#Pull the paleo data into a list. We use all the available data set names because our file only contains one dataset
timeseries,df = D.get_timeseries(D.get_all_dataset_names(),to_dataframe=True)
df





df.columns





#Identify the variable of interest. In this case its d18o
df['paleoData_variableName']





df_row = df.loc[df['paleoData_variableName']=='d18o']

paleoDepth = np.array(*df_row['depth'])
paleoValues = np.array(*df_row['paleoData_values'])

#It's wise to make sure our units all make sense so we'll pull these as well
paleo_depth_units = df_row['depthUnits']

#The stored value name and value unit are horrendously formatted, so we'll hard code them using info from the dataframe
value_name = 'd18O'
value_unit = 'permil VPDB'

#We can access the row of interest in our ensemble table via indexing by 0 (because there's just the one row anyway)
chronDepth = ensemble_df.iloc[0]['ensembleDepthValues']
chronValues = ensemble_df.iloc[0]['ensembleVariableValues']

#Getting depth units, time name, and time units from our ensemble table
ensemble_depth_units = ensemble_df.iloc[0]['ensembleDepthUnits']

#The way time name and units are stored in our ensemble dataframe are a bit wonky, so we'll do some organization of our own
time_name = 'Time'
time_unit = f'{ensemble_df.iloc[0]["ensembleVariableName"]} {ensemble_df.iloc[0]["ensembleVariableUnits"]}'





chronDepth = ensemble_df.iloc[0]['ensembleDepthValues']

chronDepth





print(f'Num rows in chronValues: {chronValues.shape[0]}, Length of chronDepth: {len(chronDepth)}')





ensemble = mapDataToEnsemble(
    chronValues=chronValues,
    paleoValues=paleoValues,
    chronDepth=chronDepth,
    paleoDepth=paleoDepth,
    value_name=value_name,
    value_unit=value_unit,
    time_name=time_name,
    time_unit=time_unit
)





ensemble.common_time().plot_envelope(figsize=(16,10))





#Loading the ensemble tables. Note that column 0 corresponds to depth

ensemble_url = 'https://wiki.linked.earth/wiki/images/7/79/MD982181.Khider.2014.chron1model1ensemble.csv'

ensemble_df = pd.read_csv(ensemble_url,header=None)

ensemble_df





url = 'https://www.ncei.noaa.gov/pub/data/paleo/contributions_by_author/khider2014/khider2014-sst.txt'


df = pd.read_csv(url, sep = '\t', skiprows=137)

df





df.replace(-999.99, np.NaN, inplace=True)


df





df.columns





paleoValues = df['SST '].to_numpy().flatten()
paleoDepth = df['depth_cm'].to_numpy().flatten()

value_name = 'SST'
value_unit = 'deg C'

time_name = 'Age'
time_unit = 'Year BP'





ensemble_df


chronDepth = ensemble_df[0].to_numpy() #The depth values in this case are stored in column 0

chronValues = ensemble_df[ensemble_df.columns.values[1:]].to_numpy() 





print(f'Num rows in chronValues: {chronValues.shape[0]}, Length of chronDepth: {len(chronDepth)}')


ensemble = mapDataToEnsemble(
    chronValues=chronValues,
    paleoValues=paleoValues,
    chronDepth=chronDepth,
    paleoDepth=paleoDepth,
    value_name=value_name,
    value_unit=value_unit,
    time_name=time_name,
    time_unit=time_unit
)





ensemble.common_time().plot_envelope(figsize=(16,10))





D = LiPD()

D.load(['../data/MD982181.Khider.2014.lpd'])


query = """
    PREFIX le: <http://linked.earth/ontology#>

    SELECT ?datasetName ?ensembleTable ?ensembleVariableName ?ensembleVariableValues ?ensembleVariableUnits ?ensembleDepthName ?ensembleDepthValues ?ensembleDepthUnits ?notes ?methodobj ?methods
    WHERE {
        ?ds a le:Dataset .
        ?ds le:name ?datasetName .
            FILTER regex(?datasetName, "[dsname].*", "i").
    
        ?ds le:includesPaleoData ?paleo .
        ?paleo le:paleoModeledBy ?model .
        ?model le:foundInEnsembleTable ?ensembleTable .
            OPTIONAL{?ensembleTable le:notes ?notes .}
        
        ?ensembleTable le:includesVariable ?ensvar .
        ?ensvar le:name ?ensembleVariableName .
            FILTER regex(lcase(?ensembleVariableName), "[ensembleVarName].*", "i").
        ?ensvar le:hasValues ?ensembleVariableValues
            OPTIONAL{?ensvar le:hasUnits ?ensembleVariableUnits .}
            FILTER (?ensembleVariableUnits = 'deg C')
        
        ?ensembleTable le:includesVariable ?ensdepthvar .
        ?ensdepthvar le:name ?ensembleDepthName .
            FILTER regex(lcase(?ensembleDepthName), "[ensembleDepthVarName].*", "i").
            FILTER (?ensembleDepthName = 'depth')
        ?ensdepthvar le:hasValues ?ensembleDepthValues .
            OPTIONAL{?ensdepthvar le:hasUnits ?ensembleDepthUnits .}
    }
"""

_,ens_df = D.query(query)

ens_df





ens_df['ensembleVariableValues'] = ens_df['ensembleVariableValues'].apply(lambda row : np.array(ast.literal_eval(row)))
ens_df['ensembleDepthValues'] = ens_df['ensembleDepthValues'].apply(lambda row : np.array(ast.literal_eval(row)))


paleo_df = D.get_timeseries_essentials()
paleo_row = paleo_df[paleo_df['paleoData_variableName']=='sst']


paleoValues = ens_df['ensembleVariableValues'][0][:,1:] #Drop the column that contains depth
paleoDepth = ens_df['ensembleDepthValues'][0]

value_name = "SST"
value_unit = "deg C"

chronValues = paleo_row['time_values'].to_numpy()[0]
chronDepth = paleo_row['depth_values'].to_numpy()[0]

time_name = 'Time'
time_unit = 'Years BP'


ensemble = mapDataToEnsemble(
    chronValues=chronValues,
    paleoValues=paleoValues,
    chronDepth=chronDepth,
    paleoDepth=paleoDepth,
    value_name=value_name,
    value_unit=value_unit,
    time_name=time_name,
    time_unit=time_unit,
    ensembleMode='paleo'
) #Don't forget to set ensembleMode to 'paleo', otherwise you'll get an error when trying to use paleo based ensembles


ensemble.common_time().spectral().plot_envelope(figsize=(16,10))


%watermark -n -u -v -iv -w



