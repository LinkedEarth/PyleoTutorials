








%load_ext watermark

import pyleoclim as pyleo
from pylipd.lipd import LiPD
import xarray as xr
import pandas as pd
from pangaeapy.pandataset import PanDataSet





pyleo.utils.available_dataset_names()





ts = pyleo.utils.load_dataset('cenogrid_d18O')
ts.plot(invert_yaxis=True,linewidth=0.5)











data_path = '../data/Crystal.McCabe-Glynn.2013.lpd'
D = LiPD()
D.load(data_path)





d, df = D.get_timeseries(D.get_all_dataset_names(), to_dataframe=True)

df.head()





df.columns





df['paleoData_variableName'].unique()


df_filter=df[df['paleoData_variableName']=='d18o']
df_filter





ts = pyleo.Series(time=df_filter['age'].iloc[0], value=df_filter['paleoData_values'].iloc[0],
                 time_name = 'Age', time_unit = df_filter['ageUnits'].iloc[0],
                 value_name = df_filter['paleoData_variableName'].iloc[0], 
                  value_unit = df_filter['paleoData_units'].iloc[0],
                 archiveType = df_filter['archiveType'].iloc[0])





ts.plot()





ts.time_unit = 'CE'
ts.value_name = '$\delta^{18}$O'
ts.value_unit = "'‰ VPDB"


ts.plot()





data_path = '../data/Euro2k/'
D_euro = LiPD()
D_euro.load_from_dir(data_path)





d_euro, df_euro = D_euro.get_timeseries(D_euro.get_all_dataset_names(),to_dataframe=True)





df_euro['paleoData_variableName'].unique()





df_euro_filt = df_euro[df_euro['paleoData_variableName']=='temperature']

df_euro_filt.shape





ts_list = []

for _,row in df_euro_filt.iterrows():
    ts_list.append(pyleo.GeoSeries(time=row['year'],value=row['paleoData_values'],
                            time_name='Year',value_name=row['paleoData_variableName'],
                            time_unit=row['yearUnits'], value_unit=row['paleoData_units'],
                            lat = row['geo_meanLat'], lon = row['geo_meanLon'],
                            archiveType = row['archiveType'],
                            label=row['dataSetName']+'_'+row['paleoData_proxy']))  





ms = pyleo.MultipleSeries(ts_list)





ms.stackplot(figsize = [10,20])





file_path = '../data/p2k_ngeo19_recons.nc'
p2k_nc = xr.open_dataset(file_path)





variable_name = 'LMRv2.1'
ens_runs = p2k_nc.groupby('ens')





ens_run1 = ens_runs[1].data_vars[variable_name]
p2k_ps = pyleo.Series(time=p2k_nc.year, value=ens_run1,
                      time_name='Time', time_unit='year', label = 'LMRv2.1 member #1',
                      value_name='GMST', value_unit='$^{\circ}$C', verbose=False)


fig, ax = p2k_ps.plot()





%%time
ts_list = []

for im in range(len(p2k_nc.ens)):
    ens_run = ens_runs[im+1].data_vars[variable_name]
    ts_list.append(pyleo.Series(time=p2k_nc.year, value=ens_run,
                      time_name='Time', time_unit='year', verbose=False,
                      value_name='GMST', value_unit='$^{\circ}$C'))





ts_ens = pyleo.EnsembleSeries(ts_list)





fig, ax = ts_ens.plot_traces()





LR04 = pd.read_csv('../data/LR04.csv', header=4)
LR04.head()


LR04.columns





LR04_ps = pyleo.Series(time=LR04['Time (ka)'], value=LR04['Benthic d18O (per mil)  '],
                      time_name='Age', time_unit='ka', verbose=False,
                      value_name='$\delta^{18}$O', value_unit=u'‰')


fig, ax = LR04_ps.plot(invert_yaxis=True)








path = 'ftp://ftp.ncdc.noaa.gov/pub/data/paleo/icecore/antarctica/antarctica2015co2composite.txt'
co2df = pd.read_csv(path, skiprows=137, sep='\t')
co2df.head()





co2ts = pyleo.Series(time=co2df['age_gas_calBP']/1000,value= co2df['co2_ppm'],
                     time_name='Age',time_unit='kyr BP',value_name = r'$CO_2$',
                     value_unit='ppm',label='EPICA Dome C CO2', verbose=False)
co2ts.plot(color='C1')





ds = PanDataSet('10.1594/PANGAEA.619066')
print(ds.title)
print(ds.data.head())





ds.data.columns


type(ds.data['Temp']) 





ds.data['Temp'].plot()





S07_temp = pyleo.Series(time=ds.data['Age'], value=ds.data['Temp'],
                      time_name='Age', time_unit='ka BP', verbose=False,
                      value_name='Temperature', value_unit=r'$^{\circ}$ C')


S07_temp.plot()





S07_d18Osw = pyleo.Series(time=ds.data['Age'], value=ds.data['δ18O H2O'],
                      time_name='Age', time_unit='ka BP', verbose=False,
                      value_name='seawater $\delta^{18}$O', value_unit='$\perthousand$')


S07_d18Osw.plot()





ms = S07_temp & S07_d18Osw
ms.stackplot(plot_kwargs={'marker':'o'})








%watermark -n -u -v -iv -w



