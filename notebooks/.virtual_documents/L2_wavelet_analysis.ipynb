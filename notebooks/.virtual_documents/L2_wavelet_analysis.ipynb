





%load_ext watermark

import matplotlib.pyplot as plt
import pandas as pd
import pyleoclim as pyleo
import numpy as np





dDdf = pd.read_csv('../data/edc3deuttemp2007.csv')
dDdf.head()





dDts = pyleo.Series(time=dDdf['Age']/1000,value= dDdf['Deuterium'],time_name='Age',time_unit='kyr BP',value_name = r'$\delta D$',value_unit=u'\u2030',label=r'EPICA Dome C $\delta D$')
dDts.plot()





fig, ax = plt.subplots()
plt.hist(np.diff(dDts.time))
plt.xlabel(r'$\Delta t (kyr)$')
plt.ylabel('# occurrences')
plt.title('Distribution of age increments',weight='bold')





dD05 = dDts.interp(step=0.5).standardize() 





scal = dD05.wavelet()


scal.plot()





scal_sig = scal.signif_test(method='ar1asym')
scal_sig.plot()





scal_sig2 = scal.signif_test(method='ar1sim', number = 1000)
scal_sig2.plot()





url = 'ftp://ftp.ncdc.noaa.gov/pub/data/paleo/icecore/antarctica/antarctica2015co2composite.txt'
co2df = pd.read_csv(url,skiprows=137,sep='\t')
co2df.head()





co2ts = pyleo.Series(time=co2df['age_gas_calBP']/1000,value= co2df['co2_ppm'],time_name='Age',time_unit='kyr BP',value_name = r'$CO_2$',value_unit='ppm',label='EPICA Dome C CO2')


co2ts.plot(color='C1')





ms = pyleo.MultipleSeries([dDts,co2ts])
ms.plot()





ms.standardize().plot()





coh = co2ts.wavelet_coherence(dDts,method='wwz')
fig, ax = coh.plot()





coh.phase_stats(scales=[80,100])





coh_sig = coh.signif_test(number=100)


fig, ax = coh_sig.plot()





coh_sig.dashboard()








%watermark -n -u -v -iv -w



