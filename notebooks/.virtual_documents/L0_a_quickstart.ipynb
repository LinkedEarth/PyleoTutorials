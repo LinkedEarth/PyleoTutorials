





%load_ext watermark
import pyleoclim as pyleo
import pandas as pd





df = pd.read_csv('../data/wtc_test_data_nino_even.csv')
df.head()





ts_nino = pyleo.Series(time =  df['t'], value = df['nino'], label = 'Kaplan Niño3 SST',
                  time_name = 'Year', value_name = 'NINO3 index',
                  time_unit = 'CE',   value_unit = '$^{\circ}$C', verbose=False)            





fig, ax = ts_nino.plot()





fig, ax = ts_nino.stripes(ref_period=(1961,1990), show_xaxis=True)





ts_nino_std = ts_nino.standardize()

fig, ax = ts_nino.plot(label='original', zorder=99) # a high zorder ensures this is plotted on top
ax = ts_nino_std.plot(label='standardized', ax=ax, lgd_kwargs={'ncol': 2})








psd_wwz = ts_nino_std.spectral()  # method='lomb-scargle' by default 
psd_mtm = ts_nino_std.spectral(method='mtm')  # method='mtm' 





fig, ax = psd_wwz.plot(label='Lomb-Scargle',zorder=99)
ax = psd_mtm.plot(ax=ax, label='MTM')





psd_mtm_signif = ts_nino_std.spectral(method='mtm').signif_test()





fig, ax = psd_mtm_signif.plot()











scal = ts_nino_std.wavelet() 


fig, ax = scal.plot() 





scal_signif = ts_nino_std.wavelet().signif_test()





fig, ax = scal_signif.plot()





fig, ax = ts_nino.standardize().spectral(method='mtm').anti_alias().signif_test().plot()





fig, ax = ts_nino.standardize().wavelet().signif_test().plot()





%watermark -n -u -v -iv -w
