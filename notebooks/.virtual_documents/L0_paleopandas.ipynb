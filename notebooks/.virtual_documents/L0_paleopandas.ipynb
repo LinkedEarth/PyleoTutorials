


%load_ext watermark
import pandas as pd
import numpy as np
import seaborn as sns
import matplotlib.pyplot as plt

import pyleoclim as pyleo





ts = pyleo.utils.load_dataset('SOI')
ts.plot(invert_yaxis=True) # invert y axis so El Niño events plot upward





ts.datetime_index





ts.metadata





ts





ts.view()





pdts = ts.to_pandas() #  returns just the Series ; metadata are available at ts.metadata
type(pdts) 





pdts.head()





pdts.describe()





ts.pandas_method(lambda x: x.transform(np.exp))








tsBP = ts.convert_time_unit('yrs BP')  
fig, ax = tsBP.plot(invert_yaxis=True) # by default, plots represent values in increasing order, so we reverse the x-axis





tsBP.view()





tsBP.datetime_index





tsBP.plot(invert_yaxis=True, invert_xaxis=True, label = 'SOI, years BP', color='C1') 





co2ts = pyleo.utils.load_dataset('AACO2')
co2ts.plot(color='gray')


co2ts.metadata


co2ts.view()





co2_ee = co2ts.sel(time=slice(115,130))
co2_ee.plot(marker='o', color='gray')





co2_ee.sel(value=co2_ee.value.max()).view()





co2_G = co2ts.sel(value=slice(None,200)) # returns a new Series object
fig, ax = co2ts.plot(color='gray')
co2_G.plot(marker='o',linewidth=0,alpha= 0.5, ax=ax,label=r"$CO_2\leq200$") 





co2_IG = co2ts.sel(value=slice(270,None)) # returns a new Series object
fig, ax = co2ts.plot(color='gray')
co2_G.plot(marker='o',linewidth=0,alpha= 0.5, ax=ax,label=r"$CO_2\leq200$") 
co2_IG.plot(marker='o',linewidth=0, color = 'C3', alpha= 0.5, ax=ax,label=r"$CO_2\geq270$") 











filename = '../data/EPICA_Dome_C_CO2.csv'
co2ts.to_csv(path = filename)








co2ts2 = pyleo.Series.from_csv(path='../data/EPICA_Dome_C_CO2.csv')
co2ts2.equals(co2ts) 








co2_5k = co2ts.resample('5ka')
type(co2_5k)





co2_5kavg = co2_5k.mean() # the aggregator here is simply the mean
fig, ax = co2ts.plot(color='gray')
co2_5kavg.plot(ax=ax,color='C1')         





pyleo.utils.tsbase.MATCH_KA





pyleo.utils.tsbase.MATCH_MA








co2_5k.std().view()





edc = pyleo.utils.load_dataset('EDC-dD')





ms =  edc.convert_time_unit("ky BP") & co2ts
type(ms)


ms.stackplot()





df = ms.to_pandas()
df.head()





df.hist()








df = ms.to_pandas(use_common_time=True)
df.head()





sns.set(font_scale=0.8)
with plt.style.context('bmh'):
    sns.pairplot(df)  





with plt.style.context('bmh'):
    sns.jointplot(data=df,kind='kde', x='EPICA Dome C dD', y='EPICA Dome C CO2')  





%watermark -n -u -v -iv -w
