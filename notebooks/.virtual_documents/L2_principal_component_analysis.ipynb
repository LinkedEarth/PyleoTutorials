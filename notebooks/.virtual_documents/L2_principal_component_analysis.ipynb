


%load_ext watermark

import pyleoclim as pyleo
import numpy as np
import seaborn as sns





from pylipd.utils.dataset import load_dir
lipd = load_dir(name='Pages2k')
df = lipd.get_timeseries_essentials()
df.head()






df['paleoData_variableName'].unique()





dfs = df.query("paleoData_variableName in ('temperature','d18O', 'MXD', 'trsgi') & geo_meanLat > 0") 
len(dfs)





tmin = dfs['time_values'].apply(lambda x : x.min())
tmin





idx = tmin[tmin <= 1600].index  # crude. there has to be a better way to pass the results of that query to dfs directly.
dfs_pre1600 = dfs.loc[idx]
dfs_pre1600.info()





res_med = dfs_pre1600['time_values'].apply(lambda x: np.median(np.abs(np.diff(x)))) # looking at median spacing between time points for each record
sns.histplot(res_med)





idx = np.where(res_med <= 20)
dfs_res = dfs_pre1600.loc[dfs_pre1600.index[idx]]
dfs_res.info()





ts_list = []
for _, row in dfs_res.iterrows():
    ts_list.append(pyleo.GeoSeries(time=row['time_values'],value=row['paleoData_values'],
                                   time_name=row['time_variableName'],value_name=row['paleoData_variableName'],
                                   time_unit=row['time_units'], value_unit=row['paleoData_units'],
                                   lat = row['geo_meanLat'], lon = row['geo_meanLon'],
                                   elevation = row['geo_meanElev'], observationType = row['paleoData_proxy'],
                                   archiveType = row['archiveType'], verbose = False, 
                                   label=row['dataSetName']+'_'+row['paleoData_variableName'])) 

Euro2k = pyleo.MultipleGeoSeries(ts_list, label='Euro2k', time_unit='year AD')  





fig, ax = Euro2k.map()





fig, ax = Euro2k.map(hue='elevation')





fig, ax = Euro2k.stackplot(v_shift_factor=1.2)








Euro2kc = Euro2k.common_time().standardize()
fig, ax = Euro2kc.stackplot(v_shift_factor=1.2)





pca = Euro2kc.pca()
type(pca)





pca.__dict__.keys()





pca.screeplot()





pca.pctvar[:5] # display only the first 5 values, for brevity





pca.modeplot()





europe = [-10, 30,35,80]
pca.modeplot(map_kwargs={'projection':'Stereographic','extent':europe})





pca.modeplot(index=1, map_kwargs={'projection':'Stereographic','extent':europe})





pca.modeplot(index=2, map_kwargs={'projection':'Stereographic','extent':europe})





pc2 = pyleo.Series(value=pca.pcs[:,2], verbose=False, label='Euro2k PC3',
                   time = Euro2kc.series_list[0].time) # remember Python's zero-based indexing
pc2spec = pc2.spectral(method='mtm')                
pc2spec.beta_est().plot()











%watermark -n -u -v -iv -w



