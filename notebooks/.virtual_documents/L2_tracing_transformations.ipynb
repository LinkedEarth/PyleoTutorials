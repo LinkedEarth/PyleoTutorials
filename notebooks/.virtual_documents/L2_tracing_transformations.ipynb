


%load_ext watermark

import pyleoclim as pyleo
import pandas as pd
import numpy as np
import matplotlib.pyplot as plt





lr04 = pyleo.utils.load_dataset('LR04')





fig, ax = lr04.plot(legend=False, invert_yaxis=True) 





lr04_s = lr04.slice([0,3000])
fig,ax = lr04_s.plot(legend=False, invert_yaxis=True) 





lr04_seq = lr04_s.detrend(keep_log=True).interp(keep_log=True).standardize(keep_log=True)


lr04_seq.log





lr04_seq.log[0]['previous_trend']





fig, ax = lr04_s.plot(title='LR04 trend extraction', invert_yaxis=True)
ax.plot(lr04_s.time,lr04_seq.log[0]['previous_trend'],label='EMD trend')
ax.legend(); 





lr04_f = lr04.flip(axis='value', keep_log=True)
lr04_f.plot()





lr04_fseq = lr04_f.detrend(keep_log=True).interp(keep_log=True).standardize(keep_log=True)
lr04_fseq.log





lr04_ff = lr04_fseq.flip(keep_log=True)


lr04_ff.plot()





lr04_ff.value_name = lr04.value_name





lr04_ff.log


%watermark -n -u -v -iv -w



