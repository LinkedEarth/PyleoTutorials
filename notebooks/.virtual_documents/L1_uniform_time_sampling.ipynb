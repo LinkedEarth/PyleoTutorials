





%load_ext watermark
import pyleoclim as pyleo
import matplotlib.pyplot as plt





tsy = pyleo.utils.load_dataset('EDC-dD')
ts = tsy.convert_time_unit('ky BP')
fig, ax = ts.plot() 





ts.is_evenly_spaced()





res = ts.resolution()
res.describe()


res.dashboard(title='EDC Resolution')











ts_linear = ts.interp()





ts_linear.is_evenly_spaced()





fig, ax = ts.plot(label='Original')
ts_linear.plot(ax=ax,label='Linear interpolation')





ts_linear = ts.interp(step=5) 
ts_linear.label = '5ka linear interpolation'


fig, ax = ts.plot(label='Original')
ts_linear.plot(ax=ax)





ts_quadratic=ts.interp(method='quadratic',step=5)
ts_next = ts.interp(method='next',step=5)
ts_zero = ts.interp(method='zero',step=5)


fig,ax = ts_linear.plot(label='Linear')
ts_quadratic.plot(ax=ax,label='Quadratic')
ts_next.plot(ax=ax,label='Next')
ts_zero.plot(ax=ax,label='Zero')
ax.set_title('Interpolation 4 ways',fontweight='bold')








ts_bin = ts.bin()
ts_bin.label = 'binning (default)'


fig, ax = ts.plot(label='Original')
ts_bin.plot(ax=ax)








ts_bin = ts.bin(bin_size=5)
ts_bin.label='5ka binning'





ts_bin.is_evenly_spaced()


fig,ax = ts.plot(label='Original')
ts_bin.plot(ax=ax)





ts5k = ts.resample('5ka').mean()
fig, ax = ts.plot(alpha=.5)
ts5k.plot(ax=ax,color='black')





fig, ax = ts.plot(alpha=.5)
ts5k.plot(ax=ax,color='black')
ts_bin.plot(ax=ax,label='5 ka binning')








from scipy.stats import norm
import numpy as np
rv = norm()
x = np.linspace(norm.ppf(0.01), norm.ppf(0.99), 100)
unif = np.ones_like(x)/np.ptp(x)
fig, ax = plt.subplots()
ax.plot(x, unif, color='silver',label='Binning kernel (boxcar)')
ax.plot(x, rv.pdf(x), 'k-', lw=1, label='Gaussian kernel')
fig.legend()





ts_gk = ts.gkernel()
fig,ax = ts.plot(label='original', alpha=.5)
ts_gk.plot(ax=ax,label='gkernel (default)',color='black')





fig,ax = ts.plot(label='original', alpha=.5)
ts_gk.plot(ax=ax,label='gkernel (default)',color='black')
ts.gkernel(step_style='mean').plot(label='gkernel (mean step)',color='C1',ax=ax)





fig,ax = ts.plot(label='original', alpha=.5)
ts_gk.plot(ax=ax,label='gkernel (default)',color='black')
ts.gkernel(h=.05).plot(label='gkernel ($h=0.05$)',color='C1',ax=ax)





fig,ax = ts.plot(label='original', alpha=.5)
ts_gk.plot(ax=ax,label='gkernel (default)',color='black')
ts.gkernel(h=.005).plot(label='gkernel ($h=0.005$)',color='C1',ax=ax)





fig, ax = ts.plot(alpha=.5)
ts5k.plot(ax=ax,color='black')
ts_bin.plot(ax=ax)
ts_linear.plot(ax=ax)
ts.gkernel(step=5).plot(ax=ax, label='5ka gkernel') 








%watermark -n -u -v -iv -w



