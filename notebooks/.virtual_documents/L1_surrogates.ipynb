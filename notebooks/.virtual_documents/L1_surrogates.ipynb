





%load_ext autoreload
%autoreload 2
import pyleoclim as pyleo
from matplotlib import pyplot as plt
import pandas as pd
import numpy as np





ar1 = pyleo.SurrogateSeries(method='ar1sim', number=20) 
type(ar1)





T=1000
ar1.from_param(length=T, param = [2,2])
ar1.plot_envelope(title=rf'AR(1) synthetic series ($\tau={2},\sigma^2={2}$)')





ar1_L = pyleo.SurrogateSeries(method='ar1sim', number=1000) 
ar1_L.from_param(length=T, param = [2,2])
ar1_L.plot_envelope(title=rf'AR(1) synthetic series ($\tau={2},\sigma^2={2}$)')





ar1_L.plot_traces(num_traces=5)





pink = pyleo.SurrogateSeries(method='CN', number=20) 
pink.from_param(length=T, param = [1.0])
pink.plot_envelope(title=rf'Pink noise  ($\beta=1.0$)')





fig, axs = plt.subplots(1,2,figsize=(9,4),sharex=True, sharey=True)
axs = axs.flatten()

for i, model in enumerate([ar1,pink]):
    psd = model.standardize().spectral(method='mtm')
    psd.plot_envelope(ax=axs[i],members_plot_num=1, lgd_kwargs={'loc':'lower center'})
axs[0].set_title('AR(1)', fontweight='bold')
axs[1].set_title('Pink noise', fontweight='bold')








SOI = pyleo.utils.load_dataset('SOI')
psd = SOI.standardize().spectral(method='mtm')
psd.plot()





fig, axs = plt.subplots(2,1,figsize=(8,9),sharex=True)
axs = axs.flatten()
surr = {}
for i, method in enumerate(['ar1sim','CN']):
    surr[method] = pyleo.SurrogateSeries(method=method,number=3) 
    surr[method].from_series(SOI)
    surr[method].plot_traces(ax=axs[i],plot_legend=False,num_traces=5,color='black')
    SOI.plot(ax=axs[i],legend=False)
    axs[i].set_title(method, fontweight='bold')
    if i<2:
        axs[i].set_xlabel(None)





surr['CN'].param





psd.beta_est(fmin=1/50, fmax=1/5).beta_est_res['beta']


psd.beta_est(fmin=1/2, fmax=1/.2).beta_est_res['beta']





fig, axs = plt.subplots(1,2,figsize=(10,4),sharey=True)
axs = axs.flatten()
psd_s = {}
for i, method in enumerate(['ar1sim','CN']):
    psd_s[method] = psd.signif_test(method=method,number=1000)
    psd_s[method].plot(ax=axs[i])
    axs[i].set_title(method, fontweight='bold')








LR04 = pyleo.utils.load_dataset('LR04')
LR04_ls = LR04.spectral()
LR04_ls.plot()





LR04.resolution().plot()





LR04_2k = LR04.slice([0,900]).interp(step=2) # why is sel() not doing anything??
psd = LR04_2k.spectral(method='mtm',settings={'NW':3}) 





from scipy.stats import pearsonr

def LR04_surr_viz(method='phaseran', nsurr = 200):

    surr = pyleo.SurrogateSeries(method=method,number=nsurr)
    surr.from_series(LR04_2k)
    
    # EnsembleSeries correlation should allow an option without signif_test
    corr = np.empty((nsurr))
    for k, ts in enumerate(surr.series_list):
        corr[k] = pearsonr(LR04_2k.value,ts.value)[0]
    
    # compute spectra
    psd_surr =  surr.spectral(method='mtm',settings={'NW':3}) 
    
    # make the figure
    fig = plt.figure(tight_layout=True,figsize=(8,6))
    ax = {}
    gs = gridspec.GridSpec(2, 2)
    ax['ts'] = fig.add_subplot(gs[0, :])
    surr.plot_traces(ax=ax['ts'],num_traces=5,color='black') # plot_legend argument does not work; also called "legend" in plot() ; should have consistent terminology
    LR04_2k.plot(ax=ax['ts'],legend=False,invert_yaxis=True,
                 title=f'Pleistocene LR04 and surrogates ({method})')
    # plot spectra
    ax['spec'] = fig.add_subplot(gs[1, 0])
    psd_surr.plot_envelope(ax=ax['spec'],plot_legend=False,curve_clr='gray',
                           members_plot_num=0,shade_clr='silver')
    psd.plot(ax=ax['spec'], title='MTM spectra')
    # plot correlations
    ax['corr'] = fig.add_subplot(gs[1, 1])
    sns.histplot(corr,ax=ax['corr'],kde=True,color='gray')
    ax['corr'].set_xlabel(r'$r(surr,LR04)$')
    ax['corr'].set_title('Correlations')



LR04_surr_viz()








LR04_surr_viz(method='CN')





LR04_surr_viz(method='ar1sim')








LR04_ar1 = pyleo.SurrogateSeries(method='ar1sim',number=1)
LR04_ar1.from_series(LR04) 
LR04.resolution().plot(title='Original')
LR04_ar1.series_list[0].resolution().plot(color='C1',title='Surrogates')





LR04_ls_sig = LR04_ls.signif_test(method='ar1sim',number=200)


LR04_ls_sig.plot()






