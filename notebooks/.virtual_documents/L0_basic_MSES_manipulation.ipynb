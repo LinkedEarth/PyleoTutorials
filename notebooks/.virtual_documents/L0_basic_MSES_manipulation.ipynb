





%load_ext watermark
import pyleoclim as pyleo
import xarray as xr
%load_ext watermark
from pylipd.lipd import LiPD








D = LiPD()

D.load_from_dir('../data/Euro2k')

timeseries,df = D.get_timeseries(D.get_all_dataset_names(),to_dataframe=True)


indices = {key:[] for key in timeseries.keys()}

for key,ts_list in timeseries.items():
    for idx,ts_dict in enumerate(ts_list):
        if 'archiveType' in ts_dict.keys(): #check that it is available to avoid errors on the loop
            if ts_dict['archiveType'] == 'Coral': #if it's a coral, then proceed to the next step
                if ts_dict['paleoData_variableName'] in ['d13C','d18O']:
                    indices[key].append(idx)

ts_list_euro_coral =[]

for key,index_list in indices.items():

    if not index_list:
        continue
    else:
        pass

    for idx in index_list:
        ts_dict = timeseries[key][idx]
        series_tmp = pyleo.Series(
                                time=ts_dict['year'],
                                value=ts_dict['paleoData_values'],
                                time_name='Years',
                                time_unit=ts_dict['yearUnits'],
                                value_name=ts_dict['paleoData_variableName'],
                                value_unit=ts_dict['paleoData_units'],
                                label=key
                                )
        ts_list_euro_coral.append(series_tmp)





redsea_corals = pyleo.MultipleSeries(ts_list_euro_coral, label='Red Sea Corals', time_unit='year CE')





redsea_corals.equal_lengths()





fig, ax = redsea_corals.stackplot()





fig,ax = redsea_corals.stripes(ref_period=(1950,2000), figsize=(8,4))





fig,ax = redsea_corals.stripes(ref_period=(1950,2000), figsize=(8,4), cmap='Spectral_r')





redsea_corals_ct = redsea_corals.common_time()
fig, ax = redsea_corals_ct.stackplot()





redsea_corals_ct = redsea_corals.common_time(start=1920, stop=1980)
fig, ax = redsea_corals_ct.stackplot()


redsea_corals_ct = redsea_corals.common_time(method = 'bin', step=1, start=1920, stop=1980)
fig, ax = redsea_corals_ct.stackplot()


redsea_corals_ct = redsea_corals.common_time(step=3, start=1920, stop=1980, method='gkernel')
fig, ax = redsea_corals_ct.stackplot()





fig, ax = redsea_corals_ct.stackplot(labels=['Red Sea\n(Felis, 2000)',
                                             'Aqaba, Jordan (AQ19)\n(Heiss, 1990)',
                                             'Aqaba, Jordan (AQ19)\n(Heiss, 1990)',
                                             'Aqaba, Jordan (AQ18)\n(Heiss, 1990)',
                                             'Aqaba, Jordan (AQ18)\n(Heiss, 1990)'])





fig, ax = redsea_corals_ct.stackplot(labels=None)





fig, ax = redsea_corals_ct.stackplot(labels=['Red Sea\n(Felis, 2000)',
                                             'Aqaba, Jordan (AQ19)\n(Heiss, 1990)',
                                             'Aqaba, Jordan (AQ19)\n(Heiss, 1990)',
                                             'Aqaba, Jordan (AQ18)\n(Heiss, 1990)',
                                             'Aqaba, Jordan (AQ18)\n(Heiss, 1990)'],
                                                colors=['#66CDAA', '#00688B', '#CDC9A5'])





fig, ax = redsea_corals_ct.stackplot(labels=['Red Sea\n(Felis, 2000)',
                                             'Aqaba, Jordan (AQ19)\n(Heiss, 1990)',
                                             'Aqaba, Jordan (AQ19)\n(Heiss, 1990)',
                                             'Aqaba, Jordan (AQ18)\n(Heiss, 1990)',
                                             'Aqaba, Jordan (AQ18)\n(Heiss, 1990)'],
                                              cmap='tab20')





co2ts = pyleo.utils.load_dataset('AACO2')
lr04 = pyleo.utils.load_dataset('LR04')
edc = pyleo.utils.load_dataset('EDC-dD')





ms = lr04.flip() & edc & co2ts
type(ms)





ms





ms.view()





ms.standardize().plot()  








gisp2 = pyleo.utils.load_dataset('GISP2')
ms3 = ms + gisp2 
fig, ax = ms3.standardize().plot()
ax.set_xlim([0, 1000]) # plot only over the past 1 Ma





ms2 = gisp2 & lr04





mst = ms + ms2





mst.stackplot()








ms3 - lr04.label
print([ts.label for ts in ms3.series_list])








file_path = '../data/p2k_ngeo19_recons.nc'
p2k_nc = xr.open_dataset(file_path)
p2k_nc


variable_name = 'LMRv2.1'
ens_grps = p2k_nc.groupby('ens')
traces = []

for im in range(len(p2k_nc.ens)):
    ens_run = ens_grps[im+1].data_vars[variable_name]
    traces.append(pyleo.Series(time=p2k_nc.year, value=ens_run,
                    time_name='Time', time_unit='year',
                    value_name='GMST', value_unit='$^{\circ}$C', 
                    verbose=False))
lmr_ens = pyleo.EnsembleSeries(traces)





fig, ax = lmr_ens.plot_traces(seed=2110)





fig, ax = lmr_ens.plot_traces(seed=42)





lmr_ens.plot_envelope(title='Default envelope') 


lmr_ens.plot_envelope(qs = [0.005, 0.25, 0.5, 0.75, 0.995], curve_lw=1,
                      shade_clr = 'teal', curve_clr='gold', 
                      lgd_kwargs={'ncol':3,'loc':'upper center'},
                      outer_shade_label='99% CI', title='Some customization') 





lmr_psd = lmr_ens.spectral(method='mtm')





lmr_psd.plot(cmap='Blues',plot_kwargs={'linewidth':1,'alpha':0.2})





lmr_psd.plot_envelope(shade_clr = 'C0', curve_clr='C0')





fig, ax = lmr_ens.sel(time=slice(1257, 1260)).histplot()





%watermark -n -u -v -iv -w
