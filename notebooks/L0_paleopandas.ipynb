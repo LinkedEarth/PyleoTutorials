{
 "cells": [
  {
   "cell_type": "markdown",
   "id": "06d2272b",
   "metadata": {},
   "source": [
    "<img src='https://github.com/LinkedEarth/Logos/raw/master/PYLEOCLIM_logo_HORZ-01.png' width=\"800\">\n",
    "\n",
    "\n",
    "# Working with `Pandas`\n",
    "\n",
    "by [Julien Emile-Geay](https://orcid.org/0000-0001-5920-4751)\n",
    "\n",
    "[Pandas](https://pandas.pydata.org) is part of nearly every data scientist's toolkit, with robust support for spreadsheet-like data structures. Until 2023, however, this workhorse of time series analysis was unusable in the paleogeosciences, because Pandas long ago hardcoded nanoseconds as the base unit of time. This limited the timescales it can represent on a 64-bit machine to a relatively narrow timespan of 585 years, thus excluding many paleogeoscience applications (for more explanations, see [this blog post](https://medium.com/cyberpaleo/pandas-and-the-geosciences-a-4-5-billion-year-story-66af9f565a4b)). In this notebook we explore the synergies between pandas and Pyleoclim.  "
   ]
  },
  {
   "cell_type": "code",
   "execution_count": null,
   "id": "0e300130",
   "metadata": {},
   "outputs": [],
   "source": [
    "%load_ext watermark\n",
    "import warnings\n",
    "warnings.filterwarnings('ignore')\n",
    "import pandas as pd\n",
    "import numpy as np\n",
    "import seaborn as sns\n",
    "import matplotlib.pyplot as plt\n",
    "\n",
    "import pyleoclim as pyleo"
   ]
  },
  {
   "cell_type": "markdown",
   "id": "31557ee4-c1d7-4e17-975c-00fbf24a848c",
   "metadata": {},
   "source": [
    "Let us load the SOI timeseries:"
   ]
  },
  {
   "cell_type": "code",
   "execution_count": null,
   "id": "39abfa68-224c-482d-8eb0-28739cb2c066",
   "metadata": {},
   "outputs": [],
   "source": [
    "ts = pyleo.utils.load_dataset('SOI')\n",
    "ts.plot(invert_yaxis=True) # invert y axis so El Niño events plot upward"
   ]
  },
  {
   "cell_type": "markdown",
   "id": "929b1f35",
   "metadata": {},
   "source": [
    "There are two properties attached to `pyleo.Series` objects:\n",
    "1. a Pandas [datetime_index](https://pandas.pydata.org/docs/dev/reference/api/pandas.DatetimeIndex.html):"
   ]
  },
  {
   "cell_type": "code",
   "execution_count": null,
   "id": "7a03fe2e",
   "metadata": {
    "scrolled": true
   },
   "outputs": [],
   "source": [
    "ts.datetime_index"
   ]
  },
  {
   "cell_type": "markdown",
   "id": "1c1d433a",
   "metadata": {},
   "source": [
    "2. a dictionary bundling all the metadata:"
   ]
  },
  {
   "cell_type": "code",
   "execution_count": null,
   "id": "79244617",
   "metadata": {},
   "outputs": [],
   "source": [
    "ts.metadata"
   ]
  },
  {
   "cell_type": "markdown",
   "id": "94c7ac5c",
   "metadata": {},
   "source": [
    "Invoking the object itself returns some essential metadata and a compressed view of the data."
   ]
  },
  {
   "cell_type": "code",
   "execution_count": null,
   "id": "de368aba",
   "metadata": {
    "scrolled": true
   },
   "outputs": [],
   "source": [
    "ts"
   ]
  },
  {
   "cell_type": "markdown",
   "id": "8530f0f8-af35-4840-b79e-3f27b925b4d4",
   "metadata": {},
   "source": [
    "For a prettier display (in Jupyter notebook only):"
   ]
  },
  {
   "cell_type": "code",
   "execution_count": null,
   "id": "0613f493-c598-4aa7-bdba-dcd4d289640c",
   "metadata": {
    "tags": []
   },
   "outputs": [],
   "source": [
    "ts.view()"
   ]
  },
  {
   "cell_type": "markdown",
   "id": "4cc932a5",
   "metadata": {},
   "source": [
    "## .to_pandas()\n",
    "\n",
    "It is easy to export a Pyleoclim Series to a Pandas Series:"
   ]
  },
  {
   "cell_type": "code",
   "execution_count": null,
   "id": "aa67224e",
   "metadata": {
    "scrolled": true
   },
   "outputs": [],
   "source": [
    "pdts = ts.to_pandas() #  returns just the Series ; metadata are available at ts.metadata\n",
    "type(pdts) "
   ]
  },
  {
   "cell_type": "markdown",
   "id": "9ed6d5c4-cd9d-45df-a685-7ac21a38b4aa",
   "metadata": {},
   "source": [
    "It is now a bona fide Pandas Series, and we can do with it everything we might do with Pandas. For example:"
   ]
  },
  {
   "cell_type": "code",
   "execution_count": null,
   "id": "488e371e",
   "metadata": {
    "tags": []
   },
   "outputs": [],
   "source": [
    "pdts.head()"
   ]
  },
  {
   "cell_type": "markdown",
   "id": "63bc6f6b-c672-4460-813f-0582664ff887",
   "metadata": {},
   "source": [
    "Or this:"
   ]
  },
  {
   "cell_type": "code",
   "execution_count": null,
   "id": "0d994b8d-db0e-4c50-a44b-f392874a3ae6",
   "metadata": {},
   "outputs": [],
   "source": [
    "pdts.describe()"
   ]
  },
  {
   "cell_type": "markdown",
   "id": "07cc24e8-d676-4199-b0cc-818bd46a65fe",
   "metadata": {},
   "source": [
    "Because Pyleoclim now has Pandas under the hood, one can now apply any Pandas method to a Pyleoclim Series, via a [lambda function](https://www.freecodecamp.org/news/python-lambda-function-explained/). For instance, applying an exponential transform to the data:"
   ]
  },
  {
   "cell_type": "code",
   "execution_count": null,
   "id": "2b93236a-28d7-4b84-b207-eb24b63ea708",
   "metadata": {},
   "outputs": [],
   "source": [
    "ts.pandas_method(lambda x: x.transform(np.exp))"
   ]
  },
  {
   "cell_type": "markdown",
   "id": "731cd6d6",
   "metadata": {},
   "source": [
    "For more examples, see [this page](https://sparkbyexamples.com/pandas/pandas-apply-with-lambda-examples/?utm_content=expand_article)\n",
    "\n",
    "## Unit conversions\n",
    "\n",
    "Pyleoclim now comprehends datestring semantics, which enable enhanced conversions betwen time representations. For instance, converting the SOI series to years before 1950 (\"BP\"): "
   ]
  },
  {
   "cell_type": "code",
   "execution_count": null,
   "id": "9e9a3272",
   "metadata": {
    "scrolled": true
   },
   "outputs": [],
   "source": [
    "tsBP = ts.convert_time_unit('yrs BP')  \n",
    "fig, ax = tsBP.plot(invert_yaxis=True) # by default, plots represent values in increasing order, so we reverse the x-axis"
   ]
  },
  {
   "cell_type": "markdown",
   "id": "c05b92de-6414-4603-8b85-525b58e82815",
   "metadata": {},
   "source": [
    "The Series plots from recent to old, because the Matplotlib `plot()` function always works with increasing values. However, it is easy to check that it was indeed flipped:"
   ]
  },
  {
   "cell_type": "code",
   "execution_count": null,
   "id": "4d1dfb0b",
   "metadata": {},
   "outputs": [],
   "source": [
    "tsBP.view()"
   ]
  },
  {
   "cell_type": "markdown",
   "id": "f08e3f0d-a82d-428d-a189-372d86dd2de6",
   "metadata": {},
   "source": [
    "The index has been flipped as well:"
   ]
  },
  {
   "cell_type": "code",
   "execution_count": null,
   "id": "22b0ce79",
   "metadata": {},
   "outputs": [],
   "source": [
    "tsBP.datetime_index"
   ]
  },
  {
   "cell_type": "markdown",
   "id": "45b17839-6a3d-49c3-a800-7d3ac0ee2891",
   "metadata": {},
   "source": [
    "If we wanted to preserve the original time flow (old to recent) in a plot, all you'd have to do is use the `invert_xaxis` parameter:"
   ]
  },
  {
   "cell_type": "code",
   "execution_count": null,
   "id": "0b80fe36-a661-4de2-82a4-db0f6bf04b08",
   "metadata": {},
   "outputs": [],
   "source": [
    "tsBP.plot(invert_yaxis=True, invert_xaxis=True, label = 'SOI, years BP', color='C1') "
   ]
  },
  {
   "cell_type": "markdown",
   "id": "f304a38c-553b-4f2c-a702-77bef456f373",
   "metadata": {},
   "source": [
    "(this is an admittedly contrived example, as no one in their right mind would cast instrumental series in years BP). "
   ]
  },
  {
   "cell_type": "markdown",
   "id": "74eab3b6",
   "metadata": {},
   "source": [
    "## Selection\n",
    "\n",
    "Let's load a true paleoclimate example, the Dome C $CO_2$ [composite](https://www.ncei.noaa.gov/pub/data/paleo/icecore/antarctica/antarctica2015co2composite.txt), and use Pandas semantics to select particular values."
   ]
  },
  {
   "cell_type": "code",
   "execution_count": null,
   "id": "606d879d",
   "metadata": {
    "scrolled": true
   },
   "outputs": [],
   "source": [
    "co2ts = pyleo.utils.load_dataset('AACO2')\n",
    "co2ts.plot(color='gray')"
   ]
  },
  {
   "cell_type": "code",
   "execution_count": null,
   "id": "29437542-6669-430b-aebc-fa148ecabc51",
   "metadata": {},
   "outputs": [],
   "source": [
    "co2ts.metadata"
   ]
  },
  {
   "cell_type": "code",
   "execution_count": null,
   "id": "1689d625-ba92-415a-8ad4-c69345212ed3",
   "metadata": {},
   "outputs": [],
   "source": [
    "co2ts.view()"
   ]
  },
  {
   "cell_type": "markdown",
   "id": "52768a7f-1656-4815-b42d-d5777434efce",
   "metadata": {},
   "source": [
    "To select a particular interval, (say the [Eemian](https://en.wikipedia.org/wiki/Eemian), 115 to 130 ky BP), you can use `sel`:"
   ]
  },
  {
   "cell_type": "code",
   "execution_count": null,
   "id": "dddd8182-37bd-4653-9db6-38e9e0c8e23d",
   "metadata": {},
   "outputs": [],
   "source": [
    "co2_ee = co2ts.sel(time=slice(115,130))\n",
    "co2_ee.plot(marker='o', color='gray')"
   ]
  },
  {
   "cell_type": "markdown",
   "id": "3b84d207-fba9-4281-b2f5-9b9dd029dea7",
   "metadata": {},
   "source": [
    "If you wanted to extract the time of the maximum value, an easy approach is to use `sel` again:"
   ]
  },
  {
   "cell_type": "code",
   "execution_count": null,
   "id": "26d0059e-95b0-4d75-9a1a-cdf9a6f35d25",
   "metadata": {},
   "outputs": [],
   "source": [
    "co2_ee.sel(value=co2_ee.value.max()).view()"
   ]
  },
  {
   "cell_type": "markdown",
   "id": "fa934688-6765-4f20-9aa6-48ec256a6dc5",
   "metadata": {},
   "source": [
    "We zero-ed in on the value ~128.5 ky BP as the highest $CO_2$ concentration in the Eemian. Note that the result is still a `Series` object (in this case, a very short one!).  Similarly, to identify the timing of glacial maxima by values below 200 ppm, one could select with an open interval:"
   ]
  },
  {
   "cell_type": "code",
   "execution_count": null,
   "id": "dc214f3d-0b55-4715-b649-350cefd316f9",
   "metadata": {},
   "outputs": [],
   "source": [
    "co2_G = co2ts.sel(value=slice(None,200)) # returns a new Series object\n",
    "fig, ax = co2ts.plot(color='gray')\n",
    "co2_G.plot(marker='o',linewidth=0,alpha= 0.5, ax=ax,label=r\"$CO_2\\leq200$\") "
   ]
  },
  {
   "cell_type": "markdown",
   "id": "83fa0e02-5823-47cc-9a72-5ee786522f0f",
   "metadata": {},
   "source": [
    "For interglacials, select half-open intervals the other way:"
   ]
  },
  {
   "cell_type": "code",
   "execution_count": null,
   "id": "d7164e59-775a-4d1f-bb19-b61a8c1dc79c",
   "metadata": {},
   "outputs": [],
   "source": [
    "co2_IG = co2ts.sel(value=slice(270,None)) # returns a new Series object\n",
    "fig, ax = co2ts.plot(color='gray')\n",
    "co2_G.plot(marker='o',linewidth=0,alpha= 0.5, ax=ax,label=r\"$CO_2\\leq200$\") \n",
    "co2_IG.plot(marker='o',linewidth=0, color = 'C3', alpha= 0.5, ax=ax,label=r\"$CO_2\\geq270$\") "
   ]
  },
  {
   "cell_type": "markdown",
   "id": "9958fccc-8860-41bf-92f7-8a8ea85dc524",
   "metadata": {},
   "source": [
    "Again, both of these are `Series` objects, albeit highly discontinuous ones. \n",
    "\n",
    "Science Remark: admittedly, an absolute threshold for defining interglacials makes little sense. A smarter way would be to use [clustering](https://en.wikipedia.org/wiki/Cluster_analysis), as implemented in the `outliers()` method and a [dedicated tutorial](./L2_outlier_detection.md). "
   ]
  },
  {
   "cell_type": "markdown",
   "id": "e7279f59-b0a5-41e9-af8b-d92ba4585b88",
   "metadata": {},
   "source": [
    "## CSV Import/Export\n",
    "\n",
    "Pandas integration allows a very easy round trip with CSV files:"
   ]
  },
  {
   "cell_type": "markdown",
   "id": "4c67ffeb-981a-4fb5-b16a-316ee7230298",
   "metadata": {},
   "source": [
    "### Exporting to CSV"
   ]
  },
  {
   "cell_type": "code",
   "execution_count": null,
   "id": "18fbdd4a-a7ed-430c-acd3-cab5cd6b4412",
   "metadata": {},
   "outputs": [],
   "source": [
    "filename = '../data/EPICA_Dome_C_CO2.csv'\n",
    "co2ts.to_csv(path = filename)"
   ]
  },
  {
   "cell_type": "markdown",
   "id": "a7042a31-24c3-444c-8559-a8d3f4a72ae8",
   "metadata": {},
   "source": [
    "The path name is optional; if no file name is provided (as is the case here), the file is named after the `Series` label. This is another reason to choose meaningful and relatively concise labels!"
   ]
  },
  {
   "cell_type": "markdown",
   "id": "6864c2e8",
   "metadata": {},
   "source": [
    "### Importing from CSV\n",
    "Read the file back in and gives the same `Series`:"
   ]
  },
  {
   "cell_type": "code",
   "execution_count": null,
   "id": "2ee39aa0",
   "metadata": {},
   "outputs": [],
   "source": [
    "co2ts2 = pyleo.Series.from_csv(path='../data/EPICA_Dome_C_CO2.csv')\n",
    "co2ts2.equals(co2ts) "
   ]
  },
  {
   "cell_type": "markdown",
   "id": "06dcce93-f303-4415-a99c-7a8fbb76af42",
   "metadata": {},
   "source": [
    "Note the use of the `equals()` method, inspired the [eponymous method from Pandas](https://pandas.pydata.org/docs/reference/api/pandas.Series.equals.html). The Pyleoclim implementation returns two boolean objects: the first says whether the two Pandas `Series` are the same; the second whether the metadata are the same. Fortunately, we landed back on our feet. "
   ]
  },
  {
   "cell_type": "markdown",
   "id": "c04548d4",
   "metadata": {},
   "source": [
    "## Resampling\n",
    "\n",
    "One of Pandas' most powerful capabilities is [resampling()](https://pandas.pydata.org/docs/user_guide/timeseries.html#resampling) series to attain various temporal resolutions. Pyleoclim implements a function of the same name, but using normal \"paleo-speak\" to define resolution. For instance, let's coarse-grain on 5,000 year intervals:"
   ]
  },
  {
   "cell_type": "code",
   "execution_count": null,
   "id": "f381aabf-0515-4938-aa4e-ff206a38b817",
   "metadata": {},
   "outputs": [],
   "source": [
    "co2_5k = co2ts.resample('5ka')\n",
    "type(co2_5k)"
   ]
  },
  {
   "cell_type": "markdown",
   "id": "d27a6b78-7b1c-4b0c-a2b4-a9b7837436ec",
   "metadata": {},
   "source": [
    "The output of this function is a variant on a Pandas [resampler](https://pandas.pydata.org/docs/reference/resampling.html); the values then need to be aggregated or transformed. For our purpose, let's average them over those 5ky bins:"
   ]
  },
  {
   "cell_type": "code",
   "execution_count": null,
   "id": "fdf47028-3f1b-42fc-8836-3a9f62fc488c",
   "metadata": {},
   "outputs": [],
   "source": [
    "co2_5kavg = co2_5k.mean() # the aggregator here is simply the mean\n",
    "fig, ax = co2ts.plot(color='gray')\n",
    "co2_5kavg.plot(ax=ax,color='C1')         "
   ]
  },
  {
   "cell_type": "markdown",
   "id": "ebe7ce99-47cf-4478-99b1-7cbfdedd0bfd",
   "metadata": {},
   "source": [
    "One notable distinction to standard Pandas resampling is that Pyleoclim aligns the resampled index to the _midpoint_ of each interval, to minimize age offsets. In contrast, Pandas aligns to the beginning of an interval.  \n",
    "\n",
    "In terms of nomenclature, `resample()` can understand several abbreviations for \"kiloyear\", such as 'ka', 'ky', or 'kyrs'. In fact, these would work:"
   ]
  },
  {
   "cell_type": "code",
   "execution_count": null,
   "id": "09991976-fc26-48c4-a3ce-ade5f278f1bf",
   "metadata": {},
   "outputs": [],
   "source": [
    "pyleo.utils.tsbase.MATCH_KA"
   ]
  },
  {
   "cell_type": "markdown",
   "id": "5911f803-b435-44a5-ac7f-feeff760b987",
   "metadata": {},
   "source": [
    "For millions of years, use:"
   ]
  },
  {
   "cell_type": "code",
   "execution_count": null,
   "id": "9dfdc13c-bdfc-4afb-90ea-78a246a062bd",
   "metadata": {},
   "outputs": [],
   "source": [
    "pyleo.utils.tsbase.MATCH_MA"
   ]
  },
  {
   "cell_type": "markdown",
   "id": "b2ac8237-4aa7-42d8-84a1-45e9df20ea5d",
   "metadata": {},
   "source": [
    "and so on for other multiples, like years (`pyleo.utils.tsbase.MATCH_A`) or billion years (`pyleo.utils.tsbase.MATCH_GA`) \n"
   ]
  },
  {
   "cell_type": "markdown",
   "id": "83f72ad3-7096-474b-83d9-47f7ca4be84e",
   "metadata": {},
   "source": [
    "Further, the `Resampler` class allows one to choose statistics other than the mean, e.g., a running standard deviation:"
   ]
  },
  {
   "cell_type": "code",
   "execution_count": null,
   "id": "2f549e3a-f108-4db3-ba7b-1a5db0186891",
   "metadata": {},
   "outputs": [],
   "source": [
    "co2_5k.std().view()"
   ]
  },
  {
   "cell_type": "markdown",
   "id": "c324ac72-a4ea-4ce3-9eae-74b500c9fa9e",
   "metadata": {},
   "source": [
    "## Pandas operations with MultipleSeries objects\n",
    "\n",
    "Let's load the Deuterium EPICA DOME C record:"
   ]
  },
  {
   "cell_type": "code",
   "execution_count": null,
   "id": "a2ae163b-21ee-4fa0-be6d-5eaa4e1bdd8b",
   "metadata": {},
   "outputs": [],
   "source": [
    "edc = pyleo.utils.load_dataset('EDC-dD')"
   ]
  },
  {
   "cell_type": "markdown",
   "id": "bed1a2a3-3d60-4ae8-9d3f-80687ef0f7a3",
   "metadata": {},
   "source": [
    "We then create a `MultipleSeries` object using the `&` shorthand:"
   ]
  },
  {
   "cell_type": "code",
   "execution_count": null,
   "id": "ec05e4f4-a6fd-4cb2-900f-1e22e66274de",
   "metadata": {
    "tags": []
   },
   "outputs": [],
   "source": [
    "ms =  edc.convert_time_unit(\"ky BP\") & co2ts\n",
    "type(ms)"
   ]
  },
  {
   "cell_type": "code",
   "execution_count": null,
   "id": "7cf9c3fc-d4d5-4138-9f31-3d7a36b3ecda",
   "metadata": {},
   "outputs": [],
   "source": [
    "ms.stackplot()"
   ]
  },
  {
   "cell_type": "markdown",
   "id": "65008756-2e36-45f6-a24c-e483c1ba5c58",
   "metadata": {},
   "source": [
    "### Exporting to pandas\n",
    "\n",
    "The `MultipleSeries` class also has a `to_pandas()` method; this one exports to a dataframe:"
   ]
  },
  {
   "cell_type": "code",
   "execution_count": null,
   "id": "0d8c42bb-e09f-4fe6-8e49-212311762afe",
   "metadata": {},
   "outputs": [],
   "source": [
    "df = ms.to_pandas()\n",
    "df.head()"
   ]
  },
  {
   "cell_type": "markdown",
   "id": "82ae4fae-3a6c-4060-bd10-3f2e3845aceb",
   "metadata": {},
   "source": [
    "By default, `to_pandas()` exports the `Series` as they are, and one can see that the values are not aligned. Some plotting functions still work out of the proverbial box:"
   ]
  },
  {
   "cell_type": "code",
   "execution_count": null,
   "id": "9aaf9aac-7872-439d-8842-93239cf5e684",
   "metadata": {},
   "outputs": [],
   "source": [
    "df.hist()"
   ]
  },
  {
   "cell_type": "markdown",
   "id": "df3b3ca9-c2a9-473c-a8ce-64485bd7e48d",
   "metadata": {},
   "source": [
    "Alas, `df.plot()` wouldn't work, as Matplotlib assumes dates must be between year 0001 and 9999. \n",
    "\n",
    "As with `Series`, `ms.to_csv()` will export the object to a CSV file. We skip this here, as the output is not very graphical. "
   ]
  },
  {
   "cell_type": "markdown",
   "id": "6e5f9c25-2308-4005-ae1d-cc45afd17664",
   "metadata": {},
   "source": [
    "### Aligning to a common axis\n",
    "In many instances it is useful for the `Series` to share a common time axis. This can be done simply this way:"
   ]
  },
  {
   "cell_type": "code",
   "execution_count": null,
   "id": "5083fcef-97ab-47e7-a645-f2e846e55225",
   "metadata": {},
   "outputs": [],
   "source": [
    "df = ms.to_pandas(use_common_time=True)\n",
    "df.head()"
   ]
  },
  {
   "cell_type": "markdown",
   "id": "b800e5df-ea60-4a79-9e3d-420e7e8c5957",
   "metadata": {},
   "source": [
    "Seaborn is a plotting library designed to visualize DataFrames. With just one line, it is easy to get an overview of the data with a [`pairplot`](https://seaborn.pydata.org/generated/seaborn.pairplot.html):"
   ]
  },
  {
   "cell_type": "code",
   "execution_count": null,
   "id": "22c228a2-8ef3-446e-a83d-f5129ca45486",
   "metadata": {},
   "outputs": [],
   "source": [
    "sns.set(font_scale=0.8)\n",
    "with plt.style.context('bmh'):\n",
    "    sns.pairplot(df)  "
   ]
  },
  {
   "cell_type": "markdown",
   "id": "bc3629a7-39c2-4bfa-ade6-89393b28cc93",
   "metadata": {},
   "source": [
    "or a [`jointplot`](https://seaborn.pydata.org/generated/seaborn.jointplot.html?highlight=jointplot#seaborn.jointplot):"
   ]
  },
  {
   "cell_type": "code",
   "execution_count": null,
   "id": "c1b8c209-bb2e-4669-832d-a479c80ae0e3",
   "metadata": {},
   "outputs": [],
   "source": [
    "with plt.style.context('bmh'):\n",
    "    sns.jointplot(data=df,kind='kde', x='EPICA Dome C dD', y='EPICA Dome C CO2')  "
   ]
  },
  {
   "cell_type": "markdown",
   "id": "cfb49d7f-c065-4177-9d7c-8d9804050ec7",
   "metadata": {},
   "source": [
    "## Summary\n",
    "The legendary pandas library is now fully integrated within Pyleoclim. This opens the door to many powerful, user-friendly functionatlities for data processing and visualization. For other examples of how pandas is making life easier in Pyleoclim, see [this notebook](L0_basic_ts_manipulation.md); however, the real frontier is what you will decide to do with it. Possibilities abound!"
   ]
  },
  {
   "cell_type": "code",
   "execution_count": null,
   "id": "f74b37a4",
   "metadata": {
    "tags": []
   },
   "outputs": [],
   "source": [
    "%watermark -n -u -v -iv -w"
   ]
  }
 ],
 "metadata": {
  "kernelspec": {
   "display_name": "pyleo",
   "language": "python",
   "name": "pyleo"
  },
  "language_info": {
   "codemirror_mode": {
    "name": "ipython",
    "version": 3
   },
   "file_extension": ".py",
   "mimetype": "text/x-python",
   "name": "python",
   "nbconvert_exporter": "python",
   "pygments_lexer": "ipython3",
   "version": "3.11.5"
  }
 },
 "nbformat": 4,
 "nbformat_minor": 5
}
