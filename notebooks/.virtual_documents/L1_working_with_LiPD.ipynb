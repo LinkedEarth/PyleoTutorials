


import pyleoclim as pyleo
import matplotlib.pyplot as plt
import cartopy.crs as ccrs





d_euro = pyleo.Lipd('../data/Euro2k')





d_euro.mapAllArchive()





d_euro.mapAllArchive(projection='Orthographic', 
                     proj_default={'central_longitude':10, 'central_latitude':30},
                     lgd_kwargs={'bbox_to_anchor':(1.05, 1)});





d_euro.mapAllArchive(projection='Orthographic', 
                     proj_default={'central_longitude':10, 'central_latitude':30},
                     savefig_settings={'path':'map.png','format':'png'})








ts_list = d_euro.to_tso()
for idx, item in enumerate(ts_list):
    print(str(idx)+': '+item['dataSetName']+': '+item['paleoData_variableName'])





ts_list[48].keys()





ts_temp=pyleo.LipdSeries(ts_list[48])





# ts_temp = pyleo.LipdSeries(ts_list)








#ts_temp = d_euro.to_LipdSeries()





ts_temp = d_euro.to_LipdSeries(number = 48)





ts_SeriesList = d_euro.to_LipdSeriesList()














ts_list_euro = d_euro.to_tso()
indices = []
for idx, item in enumerate(ts_list_euro):
    if 'archiveType' in item.keys(): #check that it is available to avoid errors on the loop
        if item['archiveType'] == 'coral': #if it's a coral, then proceed to the next step
            if item['paleoData_variableName'] == 'd18O':
                indices.append(idx)

ts_list_euro_coral =[]

for i in indices:
    ts_list_euro[i]['yearUnits']= 'year'
    ts_list_euro_coral.append(pyleo.LipdSeries(ts_list_euro[i]))

ms_euro_coral = pyleo.MultipleSeries(ts_list_euro_coral).convert_time_unit('Years AD')
ms_euro_coral.stackplot()





number = 0 #Set number to None to view the full list of indices

ts1 = d_euro.to_LipdSeries(number)





ts2=d_euro.to_LipdSeries(number=22)
ts3=d_euro.to_LipdSeries(number=35)

ms_euro_coral = pyleo.MultipleSeries([ts1,ts2,ts3]).convert_time_unit('Years AD')
ms_euro_coral.stackplot();





fig,ax = ts_temp.map()
legend_label = 'Abrantes.2011'
current_handles, current_labels = plt.gca().get_legend_handles_labels()
plt.legend(current_handles,[legend_label],bbox_to_anchor=(1.5, 1));





fig,ax = ts_temp.map(markersize = 100, legend=False)
ax.text(2,30,legend_label,transform=ccrs.PlateCarree()); #need to use the transform option for use with cartopy to set the projection for the data, in this case the label.





ts_temp.mapNearRecord(D=d_euro);








ts_temp.dashboard(spectralsignif_kwargs={'number':1000})





d_cave = pyleo.Lipd('../data/Crystal.McCabe-Glynn.2013.lpd')





ts = d_cave.to_LipdSeries(2)





ens_cave = ts.chronEnsembleToPaleo(d_cave)





fig,ax=ens_cave.common_time(method='interp').plot_envelope()
